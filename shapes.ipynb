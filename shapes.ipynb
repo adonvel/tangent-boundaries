{
 "cells": [
  {
   "cell_type": "code",
   "execution_count": 25,
   "id": "6bdb8076-926f-43d3-8894-e6c72533ad24",
   "metadata": {},
   "outputs": [],
   "source": [
    "import numpy as np\n",
    "import matplotlib.pyplot as plt\n",
    "import tangent_boundaries as tb\n",
    "from math import pi\n",
    "from scipy.sparse import csr_matrix, csc_matrix, linalg as sla\n",
    "from functools import partial\n",
    "\n",
    "sigma_0 = np.array([[1,0],[0,1]])\n",
    "sigma_x = np.array([[0,1],[1,0]])\n",
    "sigma_y = np.array([[0,-1j],[1j,0]])\n",
    "sigma_z = np.array([[1,0],[0,-1]])"
   ]
  },
  {
   "cell_type": "markdown",
   "id": "3e18bd28-905c-4c95-8e55-637261dc5ea7",
   "metadata": {},
   "source": [
    "## Build a function that generates some other shape"
   ]
  },
  {
   "cell_type": "code",
   "execution_count": 26,
   "id": "7140babd-244b-490a-aac1-913b03c3b7c9",
   "metadata": {},
   "outputs": [],
   "source": [
    "def generate_elipse(r1,r2,npoints=1000):\n",
    "    'Generates the set of points in the grid closest to an elipse with radii r1 and r2 and the angle of the normal vector.'\n",
    "    theta = np.linspace(0, 2*np.pi, npoints)\n",
    "    x = r1*np.cos(theta)\n",
    "    y = r2*np.sin(theta)\n",
    "    angles = np.arctan((r1/r2)*np.tan(theta))\n",
    "    z = np.exp(1j*angles)\n",
    "\n",
    "    boundary_points, indices = np.unique(np.round(np.stack((x, y))), axis = 1, return_inverse=True)\n",
    "\n",
    "    # Calculate the sum of elements in z that correspond to the same value in mask\n",
    "    sums_real = np.bincount(indices, weights=z.real)\n",
    "    sums_imag = np.bincount(indices, weights=z.imag)\n",
    "    \n",
    "    # Calculate the count of elements in b that correspond to the same value in mask\n",
    "    counts = np.bincount(indices)\n",
    "    \n",
    "    # Calculate the average of elements in b that correspond to the same value in mask\n",
    "    normal_angles = np.angle((sums_real + 1j*sums_imag)/counts)\n",
    "    \n",
    "\n",
    "    \n",
    "    return boundary_points, normal_angles"
   ]
  },
  {
   "cell_type": "code",
   "execution_count": 27,
   "id": "2b145a58-d371-4373-985b-04b6ec1f6fbe",
   "metadata": {},
   "outputs": [
    {
     "name": "stderr",
     "output_type": "stream",
     "text": [
      "/tmp/ipykernel_22298/828742761.py:8: UserWarning: FigureCanvasAgg is non-interactive, and thus cannot be shown\n",
      "  fig.show()\n"
     ]
    },
    {
     "data": {
      "image/png": "[encoded data removed]",
      "text/plain": [
       "<Figure size 700x700 with 1 Axes>"
      ]
     },
     "metadata": {},
     "output_type": "display_data"
    }
   ],
   "source": [
    "boundary_points, normal_angles = generate_elipse(20,15)\n",
    "\n",
    "fig = plt.figure(figsize = (7,7))\n",
    "ax = fig.add_subplot(111)\n",
    "ax.scatter(boundary_points[0],boundary_points[1], s = 1)\n",
    "\n",
    "ax.set_aspect('equal')\n",
    "fig.show()"
   ]
  },
  {
   "cell_type": "markdown",
   "id": "39607a8e-e6c8-4a71-a1a9-3547a9f4fbc9",
   "metadata": {},
   "source": [
    "### Now we have to incorporate this into the function that builds the Hamiltonian."
   ]
  },
  {
   "cell_type": "code",
   "execution_count": 28,
   "id": "03001315-da9a-4a5a-9a70-281594cb7982",
   "metadata": {},
   "outputs": [],
   "source": [
    "#Testing\n",
    "\n",
    "Nx = 43\n",
    "Ny = 35\n",
    "def get_index(x,y,s):\n",
    "    '''Returns the index of the orbital in x,y with spin s'''\n",
    "    return int(Nx*Ny*s + Nx*y + x)\n",
    "\n",
    "edge_points, normal_angles = generate_elipse(r1 = Nx//2, r2 = Ny//2)\n",
    "edge_points = edge_points + np.array([[Nx//2]*(len(edge_points[1])),[Ny//2]*(len(edge_points[1]))])\n",
    "\n",
    "indices_to_delete = []\n",
    "\n",
    "#Delete edges\n",
    "for point in zip(edge_points[0], edge_points[1]):\n",
    "    #book index to delete\n",
    "    indices_to_delete.append(get_index(point[0],point[1],1))\n",
    "\n",
    "\n",
    "#Delete outside\n",
    "amount_out = 0\n",
    "X,Y = np.meshgrid(np.arange(0,Nx),np.arange(0,Ny))\n",
    "for x,y in zip(X.ravel(),Y.ravel()):\n",
    "    if ((x-Nx//2)/(Nx//2))**2+((y-Ny//2)/(Ny//2))**2 > 1 and  get_index(x,y,1) not in indices_to_delete:\n",
    "        indices_to_delete.append(get_index(x,y,0))\n",
    "        indices_to_delete.append(get_index(x,y,1))\n",
    "        amount_out += 1"
   ]
  },
  {
   "cell_type": "code",
   "execution_count": 29,
   "id": "e889d211-c870-46bc-8498-aa62159c649e",
   "metadata": {},
   "outputs": [],
   "source": [
    "inside_indices = np.delete(np.arange(2*Nx*Ny), indices_to_delete)\n",
    "\n",
    "inside_x = inside_indices%(np.ones(len(inside_indices))*Nx)\n",
    "inside_y = (inside_indices//(np.ones(len(inside_indices))*Nx))%(np.ones(len(inside_indices))*Ny)\n",
    "inside_s = inside_indices//(np.ones(len(inside_indices))*Nx*Ny)"
   ]
  },
  {
   "cell_type": "code",
   "execution_count": 30,
   "id": "af43949c-398b-4891-a347-7fcae1a51f5e",
   "metadata": {},
   "outputs": [
    {
     "name": "stderr",
     "output_type": "stream",
     "text": [
      "/tmp/ipykernel_22298/3942523850.py:7: UserWarning: FigureCanvasAgg is non-interactive, and thus cannot be shown\n",
      "  fig.show()\n"
     ]
    },
    {
     "data": {
      "image/png": "[encoded data removed]",
      "text/plain": [
       "<Figure size 700x700 with 1 Axes>"
      ]
     },
     "metadata": {},
     "output_type": "display_data"
    }
   ],
   "source": [
    "fig = plt.figure(figsize = (7,7))\n",
    "ax = fig.add_subplot(111)\n",
    "ax.scatter(inside_x[Nx*Ny-amount_out:],inside_y[Nx*Ny-amount_out:], s = 20)\n",
    "ax.scatter(inside_x[:Nx*Ny-amount_out],inside_y[:Nx*Ny-amount_out], s = 20,zorder=-1)\n",
    "\n",
    "ax.set_aspect('equal')\n",
    "fig.show()"
   ]
  },
  {
   "cell_type": "markdown",
   "id": "ff236a35-852c-4294-98a8-c2abc4d839df",
   "metadata": {},
   "source": [
    "## It sems that this approach for obtaining indices to delete works"
   ]
  },
  {
   "cell_type": "code",
   "execution_count": 31,
   "id": "0bcdd368-2e39-4bfc-9f54-5e32601e5bd7",
   "metadata": {},
   "outputs": [],
   "source": [
    "def operators_ellipse(parameters, plot_potential = False, plot_mass = False, plot_mag_field = False,return_shape = False):\n",
    "    '''Returns operators Phi, H and P for a square \n",
    "    geometry boundary condition given by a magnetization that rotates parallel to the edge.'''\n",
    "    \n",
    "    Nx = parameters['Nx']     # Number of unit cells in x direction (should be odd)\n",
    "    Ny = parameters['Ny']     # Number of unit cells in y direction (should be odd)\n",
    "    kx = 0    # open system\n",
    "    ky = 0    # open system\n",
    "    \n",
    "    #Generate Peierls phases\n",
    "    #np.random.seed(0)\n",
    "    if parameters['B1'] == 0:\n",
    "        a_e = np.zeros((Ny,Nx))\n",
    "        a_n = np.zeros((Ny,Nx))\n",
    "    else:\n",
    "        fluxes = make_fluxes(parameters, plot = plot_mag_field)\n",
    "        a_e, a_n = vector_potential(parameters,fluxes)\n",
    "        \n",
    "    parameters['a_e'] = a_e\n",
    "    parameters['a_n'] = a_n\n",
    "    \n",
    "    \n",
    "    row_Tx = []\n",
    "    col_Tx = []\n",
    "    data_Tx = []\n",
    "    \n",
    "    row_Ty = []\n",
    "    col_Ty = []\n",
    "    data_Ty = []    \n",
    "\n",
    "    for i in range(Nx*Ny):\n",
    "        y = i//Nx\n",
    "        x = i%Nx\n",
    "        \n",
    "        #Peierls phases\n",
    "        p_e = np.exp(1j*(a_e[y,x]))\n",
    "        p_n = np.exp(1j*(a_n[y,x]))\n",
    "        \n",
    "        #Standard translations\n",
    "        trs_e = np.exp(-(1j*kx*Nx)*((x+1)//Nx))\n",
    "        trs_n = np.exp(-(1j*ky*Ny)*((y+1)//Ny))\n",
    "        \n",
    "        #Total phases\n",
    "        phase_e = p_e*trs_e\n",
    "        phase_n = p_n*trs_n\n",
    "        \n",
    "        row_Tx += [i]\n",
    "        col_Tx += [((x+1)%Nx) + y*Nx]\n",
    "        data_Tx += [phase_e*(1-(x//(Nx-1)))] ################## Open boundaries in x direction\n",
    "        \n",
    "        row_Ty += [i]\n",
    "        col_Ty += [x + ((y+1)%Ny)*Nx]\n",
    "        data_Ty += [phase_n*(1-(y//(Ny-1)))] ################## Open boundaries in y direction\n",
    "        \n",
    "    # Sparse matrices corresponding to translation operators\n",
    "    Tx = csc_matrix((data_Tx, (row_Tx, col_Tx)), shape = (Nx*Ny, Nx*Ny))\n",
    "    Ty = csc_matrix((data_Ty, (row_Ty, col_Ty)), shape = (Nx*Ny, Nx*Ny))\n",
    "    one = scipy.sparse.identity(Nx*Ny)\n",
    "    \n",
    "    phi_x = (Tx+one)/2\n",
    "    phi_y = (Ty+one)/2\n",
    "    sin_x = -(1j/2)*(Tx-Tx.H)\n",
    "    sin_y = -(1j/2)*(Ty-Ty.H)\n",
    "    \n",
    "    hx = phi_y.H@sin_x@phi_y\n",
    "    hy = phi_x.H@sin_y@phi_x\n",
    "    phi = (phi_x@phi_y+phi_y@phi_x)/2\n",
    "\n",
    "    potential_array = make_potential(parameters, plot = plot_potential).flatten()    \n",
    "    pot = scipy.sparse.spdiags(potential_array, 0, Nx*Ny, Nx*Ny, format = \"csc\")\n",
    "    V = scipy.sparse.kron(csc_matrix(sigma_0), pot, format = \"csc\")    \n",
    "    \n",
    "    mass_array = make_mass(parameters, plot = plot_mass).flatten()    \n",
    "    mass = scipy.sparse.spdiags(mass_array, 0, Nx*Ny, Nx*Ny, format = \"csc\")\n",
    "    M = scipy.sparse.kron(csc_matrix(sigma_z), mass, format = \"csc\")\n",
    "    \n",
    "    \n",
    "    H_0 = scipy.sparse.kron(csc_matrix(sigma_x), hx, format = \"csc\") + scipy.sparse.kron(csc_matrix(sigma_y), hy, format = \"csc\")\n",
    "    Phi = scipy.sparse.kron(csc_matrix(sigma_0), phi, format = \"csc\")\n",
    "\n",
    "    H = H_0 + Phi.H@V@Phi + Phi.H@M@Phi\n",
    "\n",
    "    \n",
    "    # Unitary transformation on the edges. Let us build a rotation matrix that acts on a single site.\n",
    "    def spin_rotation(site, theta, phi):\n",
    "        'Unitary transformation that rotates the spin site to a (theta,phi) orientation'\n",
    "        rotation = np.identity(2*Nx*Ny, dtype = complex)\n",
    "        \n",
    "        spinup = site[0] + site[1]*Nx\n",
    "        spindown = site[0] + site[1]*Nx + Nx*Ny\n",
    "        \n",
    "        rotation[spinup,spinup] = np.cos(theta/2)\n",
    "        rotation[spinup,spindown] = np.sin(theta/2)\n",
    "        rotation[spindown,spinup] = -np.sin(theta/2)*np.exp(1j*phi)\n",
    "        rotation[spindown,spindown] = np.cos(theta/2)*np.exp(1j*phi)\n",
    "        \n",
    "        return csc_matrix(rotation)\n",
    "        \n",
    "    # Now rotate the spins on the edge\n",
    "    def get_index(x,y,s):\n",
    "        '''Returns the index of the orbital in x,y with spin s'''\n",
    "        return int(Nx*Ny*s + Nx*y + x)\n",
    "\n",
    "    edge_points, normal_angles = generate_elipse(r1 = Nx//2, r2 = Ny//2)\n",
    "    edge_points = edge_points + np.array([[Nx//2]*(len(edge_points[1])),[Ny//2]*(len(edge_points[1]))])\n",
    "    # the parameter that we need for the spin rotation is the projection of the boundary spin o the plane, so the normal plus pi/2.\n",
    "    boundary_spin_projections = normal_angles + np.ones(len(normal_angles))*pi/2\n",
    "    \n",
    "    theta = parameters['theta']\n",
    "    indices_to_delete = []\n",
    "    \n",
    "    for point in zip(edge_points[0], edge_points[1], boundary_spin_projections):\n",
    "        \n",
    "        #rotate\n",
    "        rotation = spin_rotation([point[0],point[1]], theta, point[2]) \n",
    "        H = rotation.H@H@rotation\n",
    "        Phi = rotation.H@Phi@rotation\n",
    "        \n",
    "        #book index to delete\n",
    "        indices_to_delete.append(get_index(point[0],point[1],1))\n",
    "\n",
    "    #Now we also have to delete the outer part\n",
    "    amount_out = 0\n",
    "    X,Y = np.meshgrid(np.arange(0,Nx),np.arange(0,Ny))\n",
    "    for x,y in zip(X.ravel(),Y.ravel()):\n",
    "        if ((x-Nx//2)/(Nx//2))**2+((y-Ny//2)/(Ny//2))**2 > 1 and  get_index(x,y,1) not in indices_to_delete:\n",
    "            indices_to_delete.append(get_index(x,y,0))\n",
    "            indices_to_delete.append(get_index(x,y,1))\n",
    "            amount_out += 1\n",
    "\n",
    "            \n",
    "    # Transforming the sparse matrix into dense to delete spins (could I avoid this?)\n",
    "    H_aux = H.toarray()\n",
    "    Phi_aux = Phi.toarray()\n",
    "   \n",
    "    \n",
    "    H_aux = np.delete(H_aux, indices_to_delete, axis=0)\n",
    "    H_aux = np.delete(H_aux, indices_to_delete, axis=1)\n",
    "    \n",
    "    Phi_aux = np.delete(Phi_aux, indices_to_delete, axis=0)\n",
    "    Phi_aux = np.delete(Phi_aux, indices_to_delete, axis=1)\n",
    "        \n",
    "    H = csc_matrix(H_aux)\n",
    "    Phi = csc_matrix(Phi_aux)\n",
    "    P = Phi.H@Phi\n",
    "\n",
    "    if return_shape:\n",
    "        inside_indices = np.delete(np.arange(2*Nx*Ny), indices_to_delete)\n",
    "        inside_x = inside_indices%(np.ones(len(inside_indices))*Nx)\n",
    "        inside_y = (inside_indices//(np.ones(len(inside_indices))*Nx))%(np.ones(len(inside_indices))*Ny)\n",
    "        inside_s = inside_indices//(np.ones(len(inside_indices))*Nx*Ny)\n",
    "    \n",
    "        return Phi, H, P, indices_to_delete, (inside_x[Nx*Ny-amount_out:],inside_y[Nx*Ny-amount_out:]), (inside_x[:Nx*Ny-amount_out],inside_y[:Nx*Ny-amount_out])\n",
    "    else:\n",
    "        return Phi, H, P, indices_to_delete"
   ]
  },
  {
   "cell_type": "code",
   "execution_count": null,
   "id": "5c3b374b-6127-4e8e-b86e-7ae55e0817cc",
   "metadata": {},
   "outputs": [],
   "source": []
  }
 ],
 "metadata": {
  "kernelspec": {
   "display_name": "Python 3 (ipykernel)",
   "language": "python",
   "name": "python3"
  },
  "language_info": {
   "codemirror_mode": {
    "name": "ipython",
    "version": 3
   },
   "file_extension": ".py",
   "mimetype": "text/x-python",
   "name": "python",
   "nbconvert_exporter": "python",
   "pygments_lexer": "ipython3",
   "version": "3.12.4"
  }
 },
 "nbformat": 4,
 "nbformat_minor": 5
}
