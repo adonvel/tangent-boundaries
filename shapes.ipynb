{
 "cells": [
  {
   "cell_type": "code",
   "execution_count": 16,
   "id": "6bdb8076-926f-43d3-8894-e6c72533ad24",
   "metadata": {},
   "outputs": [],
   "source": [
    "import numpy as np\n",
    "import matplotlib.pyplot as plt\n",
    "import tangent_boundaries as tb\n",
    "from math import pi\n",
    "from scipy.sparse import csr_matrix, csc_matrix, linalg as sla\n",
    "from functools import partial\n",
    "\n",
    "sigma_0 = np.array([[1,0],[0,1]])\n",
    "sigma_x = np.array([[0,1],[1,0]])\n",
    "sigma_y = np.array([[0,-1j],[1j,0]])\n",
    "sigma_z = np.array([[1,0],[0,-1]])"
   ]
  },
  {
   "cell_type": "markdown",
   "id": "3e18bd28-905c-4c95-8e55-637261dc5ea7",
   "metadata": {},
   "source": [
    "## Build a function that generates some other shape"
   ]
  },
  {
   "cell_type": "code",
   "execution_count": 25,
   "id": "7140babd-244b-490a-aac1-913b03c3b7c9",
   "metadata": {},
   "outputs": [],
   "source": [
    "def generate_elipse(r1,r2,npoints=1000):\n",
    "    'Generates the set of points in the grid closest to an elipse with radii r1 and r2 and the angle of the normal vector.'\n",
    "    theta = np.linspace(0, 2*np.pi, npoints)\n",
    "    x = r1*np.cos(theta)\n",
    "    y = r2*np.sin(theta)\n",
    "    phi = np.arctan((r1/r2)*np.tan(theta))\n",
    "    z = np.exp(1j*phi)\n",
    "\n",
    "    boundary_points, indices = np.unique(np.round(np.stack((x, y))), axis = 1, return_inverse=True)\n",
    "\n",
    "    # Calculate the sum of elements in b that correspond to the same value in mask\n",
    "    sums_real = np.bincount(indices, weights=z.real)\n",
    "    sums_imag = np.bincount(indices, weights=z.imag)\n",
    "    \n",
    "    # Calculate the count of elements in b that correspond to the same value in mask\n",
    "    counts = np.bincount(indices)\n",
    "    \n",
    "    # Calculate the average of elements in b that correspond to the same value in mask\n",
    "    normal_angles = np.angle((sums_real + 1j*sums_imag)/counts)\n",
    "    \n",
    "\n",
    "    \n",
    "    return boundary_points, normal_angles"
   ]
  },
  {
   "cell_type": "code",
   "execution_count": 26,
   "id": "2b145a58-d371-4373-985b-04b6ec1f6fbe",
   "metadata": {},
   "outputs": [
    {
     "name": "stderr",
     "output_type": "stream",
     "text": [
      "/tmp/ipykernel_30987/828742761.py:8: UserWarning: FigureCanvasAgg is non-interactive, and thus cannot be shown\n",
      "  fig.show()\n"
     ]
    },
    {
     "data": {
      "image/png": "[encoded data removed]",
      "text/plain": [
       "<Figure size 700x700 with 1 Axes>"
      ]
     },
     "metadata": {},
     "output_type": "display_data"
    }
   ],
   "source": [
    "boundary_points, normal_angles = generate_elipse(20,15)\n",
    "\n",
    "fig = plt.figure(figsize = (7,7))\n",
    "ax = fig.add_subplot(111)\n",
    "ax.scatter(boundary_points[0],boundary_points[1], s = 1)\n",
    "\n",
    "ax.set_aspect('equal')\n",
    "fig.show()"
   ]
  },
  {
   "cell_type": "code",
   "execution_count": 27,
   "id": "16a77cae-93c8-4b3d-bd3a-0207278300fd",
   "metadata": {},
   "outputs": [
    {
     "name": "stdout",
     "output_type": "stream",
     "text": [
      "[ 2.61488457e-01  1.79400593e-01  8.79265733e-02 -4.58793926e-16\n",
      " -8.79265733e-02 -1.79400593e-01 -2.61488457e-01  4.93746519e-01\n",
      "  4.40128730e-01  3.50006063e-01  3.02047029e-01 -3.02047029e-01\n",
      " -3.50006063e-01 -4.40128730e-01 -4.93746519e-01  6.00813284e-01\n",
      "  5.34905800e-01 -5.34905800e-01 -6.00813284e-01  6.95863642e-01\n",
      "  6.43720540e-01 -6.43720540e-01 -6.95863642e-01  7.86448510e-01\n",
      "  7.40193910e-01 -7.40193910e-01 -7.86448510e-01  8.66475948e-01\n",
      " -8.66475948e-01  9.43002336e-01  9.09845080e-01 -9.09845080e-01\n",
      " -9.43002336e-01  1.01913427e+00  9.90239132e-01 -9.90239132e-01\n",
      " -1.01913427e+00  1.05589115e+00 -1.05589115e+00  1.12471084e+00\n",
      "  1.09751358e+00 -1.09751358e+00 -1.12471084e+00  1.16211124e+00\n",
      " -1.16211124e+00  1.22731297e+00  1.20406595e+00 -1.20406595e+00\n",
      " -1.22731297e+00  1.25533475e+00 -1.25533475e+00  1.29806461e+00\n",
      " -1.29806461e+00  1.33764558e+00 -1.33764558e+00  1.38883247e+00\n",
      "  1.36700025e+00 -1.36700025e+00 -1.38883247e+00  1.42014141e+00\n",
      " -1.42014141e+00  1.45838978e+00 -1.45838978e+00  1.49638876e+00\n",
      " -1.49638876e+00  1.53422276e+00 -1.53422276e+00  1.17943512e-03\n",
      " -1.17943512e-03 -1.53186138e+00  1.53186138e+00 -1.49401953e+00\n",
      "  1.49401953e+00 -1.45600744e+00  1.45600744e+00 -1.41774066e+00\n",
      "  1.41774066e+00 -1.38641298e+00 -1.36700232e+00  1.36700232e+00\n",
      "  1.38641298e+00 -1.34010126e+00  1.34010126e+00 -1.29805789e+00\n",
      "  1.29805789e+00 -1.25279799e+00  1.25279799e+00 -1.22731446e+00\n",
      " -1.20665891e+00  1.20665891e+00  1.22731446e+00 -1.16210002e+00\n",
      "  1.16210002e+00 -1.12200883e+00 -1.09751969e+00  1.09751969e+00\n",
      "  1.12200883e+00 -1.05869261e+00  1.05869261e+00 -1.01912880e+00\n",
      " -9.87326156e-01  9.87326156e-01  1.01912880e+00 -9.43017113e-01\n",
      " -9.09840561e-01  9.09840561e-01  9.43017113e-01 -8.66497636e-01\n",
      " -8.28669399e-01  8.28669399e-01  8.66497636e-01 -7.83171665e-01\n",
      "  7.83171665e-01 -6.99299495e-01 -6.47249614e-01  6.47249614e-01\n",
      "  6.99299495e-01 -6.04416708e-01 -5.34886884e-01  5.34886884e-01\n",
      "  6.04416708e-01 -4.89962687e-01 -4.40149622e-01 -3.53980109e-01\n",
      " -3.02044929e-01  3.02044929e-01  3.53980109e-01  4.40149622e-01\n",
      "  4.89962687e-01 -2.57416920e-01 -1.75265873e-01 -8.79312596e-02\n",
      " -4.50487474e-16  8.79312596e-02  1.75265873e-01  2.57416920e-01]\n"
     ]
    }
   ],
   "source": [
    "print(normal_angles)"
   ]
  },
  {
   "cell_type": "code",
   "execution_count": null,
   "id": "dbd8b2d5-90e0-49a7-a509-61871fc174cd",
   "metadata": {},
   "outputs": [],
   "source": []
  }
 ],
 "metadata": {
  "kernelspec": {
   "display_name": "Python 3 (ipykernel)",
   "language": "python",
   "name": "python3"
  },
  "language_info": {
   "codemirror_mode": {
    "name": "ipython",
    "version": 3
   },
   "file_extension": ".py",
   "mimetype": "text/x-python",
   "name": "python",
   "nbconvert_exporter": "python",
   "pygments_lexer": "ipython3",
   "version": "3.12.4"
  }
 },
 "nbformat": 4,
 "nbformat_minor": 5
}
