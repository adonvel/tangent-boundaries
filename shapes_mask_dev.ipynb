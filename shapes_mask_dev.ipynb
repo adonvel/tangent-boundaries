{
 "cells": [
  {
   "cell_type": "code",
   "execution_count": 1,
   "id": "914c0fe4-6217-4d27-b0ee-ef682ad77d03",
   "metadata": {},
   "outputs": [],
   "source": [
    "import numpy as np\n",
    "import matplotlib.pyplot as plt\n",
    "import tangent_boundaries as tb\n",
    "from math import pi\n",
    "from scipy.sparse import csr_matrix, csc_matrix, linalg as sla\n",
    "from functools import partial\n",
    "\n",
    "sigma_0 = np.array([[1,0],[0,1]])\n",
    "sigma_x = np.array([[0,1],[1,0]])\n",
    "sigma_y = np.array([[0,-1j],[1j,0]])\n",
    "sigma_z = np.array([[1,0],[0,-1]])"
   ]
  },
  {
   "cell_type": "markdown",
   "id": "9c4050dc-60e1-46b3-bbe2-16baee598690",
   "metadata": {},
   "source": [
    "## Build a function that generates some other shape"
   ]
  },
  {
   "cell_type": "code",
   "execution_count": 2,
   "id": "14e80ae2-a4b7-4ca6-8478-b1e6ff89795e",
   "metadata": {},
   "outputs": [
    {
     "ename": "NameError",
     "evalue": "name 'circle_x' is not defined",
     "output_type": "error",
     "traceback": [
      "\u001b[0;31m---------------------------------------------------------------------------\u001b[0m",
      "\u001b[0;31mNameError\u001b[0m                                 Traceback (most recent call last)",
      "Cell \u001b[0;32mIn[2], line 23\u001b[0m\n\u001b[1;32m     21\u001b[0m radius1 \u001b[38;5;241m=\u001b[39m \u001b[38;5;241m15\u001b[39m\n\u001b[1;32m     22\u001b[0m radius2 \u001b[38;5;241m=\u001b[39m \u001b[38;5;241m15\u001b[39m\n\u001b[0;32m---> 23\u001b[0m curve \u001b[38;5;241m=\u001b[39m generate_curve(partial(circle_x,radius1),partial(circle_y,radius2))\n\u001b[1;32m     24\u001b[0m shape \u001b[38;5;241m=\u001b[39m generate_shape(partial(circle_x,radius1),partial(circle_y,radius2))\n",
      "\u001b[0;31mNameError\u001b[0m: name 'circle_x' is not defined"
     ]
    }
   ],
   "source": [
    "# Probably the best idea is to start with parametrisable shapes and then calculate the closest point to the edge.\n",
    "\n",
    "def generate_curve(x,y,npoints=1000):\n",
    "    'x and y are functions'\n",
    "    theta = np.linspace(0, 2*np.pi, npoints)\n",
    "    return (x(theta),y(theta))\n",
    "    \n",
    "def generate_shape(x,y,npoints=1000):\n",
    "    'x and y are functions'\n",
    "    theta = np.linspace(0, 2*np.pi, npoints)\n",
    "    unique_points = np.unique(np.stack((np.round(x(theta)),np.round(y(theta)))), axis = 1)\n",
    "\n",
    "    return (unique_points[0],unique_points[1])\n",
    "\n",
    "def elipse_x(R,theta):\n",
    "    return R*np.cos(theta) \n",
    "\n",
    "def elipse_y(R,theta):\n",
    "    return R*np.sin(theta)\n",
    "\n",
    "radius1 = 15\n",
    "radius2 = 15\n",
    "curve = generate_curve(partial(circle_x,radius1),partial(circle_y,radius2))\n",
    "shape = generate_shape(partial(circle_x,radius1),partial(circle_y,radius2))\n"
   ]
  },
  {
   "cell_type": "code",
   "execution_count": 203,
   "id": "68cfa73f-290f-4cc2-8ac6-bca16629c19f",
   "metadata": {},
   "outputs": [
    {
     "name": "stdout",
     "output_type": "stream",
     "text": [
      "114\n"
     ]
    },
    {
     "name": "stderr",
     "output_type": "stream",
     "text": [
      "/tmp/ipykernel_8087/2370434146.py:6: UserWarning: FigureCanvasAgg is non-interactive, and thus cannot be shown\n",
      "  fig.show()\n"
     ]
    },
    {
     "data": {
      "image/png": "[encoded data removed]",
      "text/plain": [
       "<Figure size 700x700 with 1 Axes>"
      ]
     },
     "metadata": {},
     "output_type": "display_data"
    }
   ],
   "source": [
    "fig = plt.figure(figsize = (7,7))\n",
    "ax = fig.add_subplot(111)\n",
    "ax.scatter(curve[0],curve[1], s = 1)\n",
    "ax.scatter(shape[0],shape[1], s = 10)\n",
    "ax.set_aspect('equal')\n",
    "fig.show()\n",
    "\n",
    "print(len(shape[1]))"
   ]
  },
  {
   "cell_type": "markdown",
   "id": "e7f48593-541b-418d-ac2e-819c72163b41",
   "metadata": {},
   "source": [
    "## Generate shape works, now we should find the angle of the normal to the edge"
   ]
  },
  {
   "cell_type": "code",
   "execution_count": 193,
   "id": "82ffc4c5-c4fc-44b9-9eaa-f170c5fdcc04",
   "metadata": {},
   "outputs": [
    {
     "name": "stdout",
     "output_type": "stream",
     "text": [
      "[[-15. -15. -15. -15. -15. -15. -15. -15. -15. -14. -14. -14. -14. -14.\n",
      "  -14. -14. -14. -13. -13. -13. -13. -12. -12. -12. -12. -12. -12. -11.\n",
      "  -11. -11. -11. -10. -10. -10. -10.  -9.  -9.  -8.  -8.  -8.  -8.  -7.\n",
      "   -7.  -6.  -6.  -5.  -5.  -4.  -4.  -4.  -4.  -3.  -3.  -2.  -2.  -1.\n",
      "   -1.  -0.   0.   1.   1.   2.   2.   3.   3.   4.   4.   4.   4.   5.\n",
      "    5.   6.   6.   7.   7.   8.   8.   8.   8.   9.   9.  10.  10.  10.\n",
      "   10.  11.  11.  11.  11.  12.  12.  12.  12.  12.  12.  13.  13.  13.\n",
      "   13.  14.  14.  14.  14.  14.  14.  15.  15.  15.  15.  15.  15.  15.\n",
      "   15.  15.]\n",
      " [ -4.  -3.  -2.  -1.   0.   1.   2.   3.   4.  -7.  -6.  -5.  -4.   4.\n",
      "    5.   6.   7.  -8.  -7.   7.   8. -10.  -9.  -8.   8.   9.  10. -11.\n",
      "  -10.  10.  11. -12. -11.  11.  12. -12.  12. -13. -12.  12.  13. -13.\n",
      "   13. -14.  14. -14.  14. -15. -14.  14.  15. -15.  15. -15.  15. -15.\n",
      "   15. -15.  15. -15.  15. -15.  15. -15.  15. -15. -14.  14.  15. -14.\n",
      "   14. -14.  14. -13.  13. -13. -12.  12.  13. -12.  12. -12. -11.  11.\n",
      "   12. -11. -10.  10.  11. -10.  -9.  -8.   8.   9.  10.  -8.  -7.   7.\n",
      "    8.  -6.  -5.  -4.   4.   5.   6.  -4.  -3.  -2.  -1.   0.   1.   2.\n",
      "    3.   4.]]\n"
     ]
    }
   ],
   "source": [
    "theta = np.linspace(0, 2*np.pi, 1000)\n",
    "X = radius1*np.cos(theta)\n",
    "Y = radius2*np.sin(theta)\n",
    "\n",
    "points = np.stack((np.round(X),np.round(Y)))\n",
    "#print(points[:,:37])\n",
    "\n",
    "unique_points, index, inverse, counts = np.unique(points,axis = 1, return_index=True, return_inverse=True, return_counts=True)\n",
    "\n",
    "print(unique_points)\n",
    "#print(inverse)\n",
    "#print(counts)\n",
    "def normal_angle():\n",
    "    theta = np.linspace(0, 2*np.pi, 1000)\n",
    "    phi = np.arctan((radius1/radius2)*np.tan(theta))\n",
    "    return(phi)\n",
    "  "
   ]
  },
  {
   "cell_type": "code",
   "execution_count": 199,
   "id": "f4cb0319-4898-4392-a6f0-c83509244896",
   "metadata": {},
   "outputs": [
    {
     "name": "stdout",
     "output_type": "stream",
     "text": [
      "[ 2.45289516e-01  2.01263193e-01  1.35223708e-01  6.60394852e-02\n",
      " -3.44572305e-16 -6.60394852e-02 -1.35223708e-01 -2.01263193e-01\n",
      " -2.45289516e-01  4.49697447e-01  4.11960598e-01  3.39631638e-01\n",
      "  2.79881628e-01 -2.79881628e-01 -3.39631638e-01 -4.11960598e-01\n",
      " -4.49697447e-01  5.53473781e-01  4.87434296e-01 -4.87434296e-01\n",
      " -5.53473781e-01  6.91842226e-01  6.44671165e-01  5.94355367e-01\n",
      " -5.94355367e-01 -6.44671165e-01 -6.91842226e-01  7.83039610e-01\n",
      "  7.35868549e-01 -7.35868549e-01 -7.83039610e-01  8.80526469e-01\n",
      "  8.33355409e-01 -8.33355409e-01 -8.80526469e-01  9.27697530e-01\n",
      " -9.27697530e-01  1.01889491e+00  9.78013329e-01 -9.78013329e-01\n",
      " -1.01575018e+00  1.08493440e+00 -1.08178966e+00  1.15726336e+00\n",
      " -1.15726336e+00  1.22959232e+00 -1.22959232e+00  1.32393444e+00\n",
      "  1.28934233e+00 -1.28934233e+00 -1.32393444e+00  1.36796077e+00\n",
      " -1.36796077e+00  1.43714499e+00 -1.43714499e+00  1.50318447e+00\n",
      " -1.50318447e+00  1.38275025e+00 -1.38275025e+00 -1.50318447e+00\n",
      "  1.50318447e+00 -1.43714499e+00  1.43714499e+00 -1.37110550e+00\n",
      "  1.37110550e+00 -1.32393444e+00 -1.28934233e+00  1.28934233e+00\n",
      "  1.32393444e+00 -1.23273706e+00  1.23273706e+00 -1.16040810e+00\n",
      "  1.16040810e+00 -1.08493440e+00  1.08493440e+00 -1.01575018e+00\n",
      " -9.74868591e-01  9.74868591e-01  1.01575018e+00 -9.24552793e-01\n",
      "  9.24552793e-01 -8.77381732e-01 -8.33355409e-01  8.33355409e-01\n",
      "  8.77381732e-01 -7.86184348e-01 -7.35868549e-01  7.35868549e-01\n",
      "  7.86184348e-01 -6.91842226e-01 -6.44671165e-01 -5.94355367e-01\n",
      "  5.94355367e-01  6.44671165e-01  6.91842226e-01 -5.56618518e-01\n",
      " -4.87434296e-01  4.87434296e-01  5.56618518e-01 -4.11960598e-01\n",
      " -3.39631638e-01 -2.83026365e-01  2.83026365e-01  3.39631638e-01\n",
      "  4.11960598e-01 -2.48434254e-01 -2.01263193e-01 -1.32078970e-01\n",
      " -6.60394852e-02 -3.37637267e-16  6.60394852e-02  1.32078970e-01\n",
      "  2.01263193e-01  2.48434254e-01]\n"
     ]
    }
   ],
   "source": [
    "phi = normal_angle()\n",
    "\n",
    "z = np.zeros(len(unique_points[1]),dtype = complex)\n",
    "for i in range(len(unique_points[1])):\n",
    "    count = 0\n",
    "    for j,ind in enumerate(inverse):\n",
    "        if ind == i:\n",
    "            count+=1\n",
    "            z[i] += np.exp(1j*phi[j])\n",
    "    phi_short[i] = np.angle(z[i]/count)   \n",
    "            \n",
    "print(phi_short)"
   ]
  },
  {
   "cell_type": "code",
   "execution_count": 205,
   "id": "a0548d4e-c361-4c26-8f44-273df19411b2",
   "metadata": {},
   "outputs": [
    {
     "name": "stdout",
     "output_type": "stream",
     "text": [
      "[ 3.75        4.33333333  3.75        3.75        4.33333333  4.33333333\n",
      "  3.75        9.          9.          9.         11.         12.\n",
      " 13.         14.         15.5        15.5       ]\n"
     ]
    }
   ],
   "source": [
    "# Assuming a is your 2D array of coordinates\n",
    "a = np.array([[1.2, 3.5, 1.2, 1.2, 3.5, 3.5, 1.2, 2.3, 4.6, 2.3, 5.7, 6.8, 7.9, 8.0, 9.1, 9.0],\n",
    "              [2.3, 4.6, 2.3, 2.3, 4.6, 4.6, 2.3, 3.4, 5.7, 3.4, 6.5, 7.6, 8.7, 9.8, 10.9, 10.91]])\n",
    "# Round the coordinates to integers\n",
    "rounded_a = np.round(a)\n",
    "\n",
    "# Find unique columns and their indices\n",
    "unique_a, indices = np.unique(rounded_a, axis=1, return_inverse=True)\n",
    "\n",
    "# The mask is the indices array\n",
    "mask = indices\n",
    "\n",
    "b = np.array([1, 2, 3, 4, 5, 6, 7, 8, 9, 10, 11, 12, 13, 14, 15, 16])\n",
    "\n",
    "# Calculate the sum of elements in b that correspond to the same value in mask\n",
    "sums = np.bincount(mask, weights=b)\n",
    "\n",
    "# Calculate the count of elements in b that correspond to the same value in mask\n",
    "counts = np.bincount(mask)\n",
    "\n",
    "# Calculate the average of elements in b that correspond to the same value in mask\n",
    "averages = sums / counts\n",
    "\n",
    "# Create a new array where all elements that correspond to the same value in mask are averaged\n",
    "new_array = averages[mask]\n",
    "\n",
    "print(new_array)"
   ]
  },
  {
   "cell_type": "code",
   "execution_count": 269,
   "id": "911dc38b-63a3-43e1-9ab7-7966502d81a6",
   "metadata": {},
   "outputs": [],
   "source": [
    "# Now let us put all of it together\n",
    "def generate_elipse(r1,r2,npoints=1000):\n",
    "    'Generates the set of points in the grid closest to an elipse with radii r1 and r2 and the angle of the normal vector.'\n",
    "    theta = np.linspace(0, 2*np.pi, npoints)\n",
    "    x = r1*np.cos(theta)\n",
    "    y = r2*np.sin(theta)\n",
    "    phi = np.arctan((r1/r2)*np.tan(theta))\n",
    "\n",
    "    unique_points, inverse_indices = np.unique(np.stack((np.round(x),np.round(y))), axis = 1, return_inverse=True)\n",
    "    phi_short = np.zeros(len(unique_points[1]))\n",
    "\n",
    "    z = np.zeros(len(unique_points[1]),dtype = complex)\n",
    "    for i in range(len(unique_points[1])):\n",
    "        count = 0\n",
    "        for j,ind in enumerate(inverse_indices):\n",
    "            if ind == i:\n",
    "                count+=1\n",
    "                z[i] += np.exp(1j*phi[j])\n",
    "        phi_short[i] = np.angle(z[i]/count)\n",
    "\n",
    "    return unique_points.astype(int), phi_short\n"
   ]
  },
  {
   "cell_type": "code",
   "execution_count": 270,
   "id": "f0513aad-d88f-4799-b820-1cc755495a80",
   "metadata": {},
   "outputs": [
    {
     "name": "stdout",
     "output_type": "stream",
     "text": [
      "114\n"
     ]
    },
    {
     "name": "stderr",
     "output_type": "stream",
     "text": [
      "/tmp/ipykernel_8087/3650857326.py:8: UserWarning: FigureCanvasAgg is non-interactive, and thus cannot be shown\n",
      "  fig.show()\n"
     ]
    },
    {
     "data": {
      "image/png": "[encoded data removed]",
      "text/plain": [
       "<Figure size 700x700 with 1 Axes>"
      ]
     },
     "metadata": {},
     "output_type": "display_data"
    }
   ],
   "source": [
    "unique_points, phi = generate_elipse(20,15)\n",
    "\n",
    "fig = plt.figure(figsize = (7,7))\n",
    "ax = fig.add_subplot(111)\n",
    "ax.scatter(unique_points[0],unique_points[1], s = 1)\n",
    "\n",
    "ax.set_aspect('equal')\n",
    "fig.show()\n",
    "\n",
    "print(len(shape[1]))"
   ]
  },
  {
   "cell_type": "code",
   "execution_count": 275,
   "id": "0a968236-c36f-433a-bffc-26b114f808f0",
   "metadata": {},
   "outputs": [],
   "source": [
    "def generate_elipse_zhenya(r1,r2,npoints=1000):\n",
    "    'Generates the set of points in the grid closest to an elipse with radii r1 and r2 and the angle of the normal vector.'\n",
    "    theta = np.linspace(0, 2*np.pi, npoints)\n",
    "    x = r1*np.cos(theta)\n",
    "    y = r2*np.sin(theta)\n",
    "    phi = np.arctan((r1/r2)*np.tan(theta))\n",
    "    b = np.exp(1j*phi)\n",
    "    a = np.stack((x, y))\n",
    "    unique_a, indices = np.unique(np.round(a), axis = 1, return_inverse=True)\n",
    "\n",
    "\n",
    "    # The mask is the indices array\n",
    "    mask = indices   \n",
    "    \n",
    "    # Calculate the sum of elements in b that correspond to the same value in mask\n",
    "    sums_real = np.bincount(mask, weights=b.real)\n",
    "    sums_imag = np.bincount(mask, weights=b.imag)\n",
    "    \n",
    "    # Calculate the count of elements in b that correspond to the same value in mask\n",
    "    counts = np.bincount(mask)\n",
    "    \n",
    "    # Calculate the average of elements in b that correspond to the same value in mask\n",
    "    averages_real = sums_real / counts\n",
    "    averages_imag = sums_imag / counts\n",
    "    averages = averages_real +averages_imag*1j\n",
    "    \n",
    "\n",
    "    \n",
    "    return unique_a, np.angle(averages), mask, a\n"
   ]
  },
  {
   "cell_type": "code",
   "execution_count": 276,
   "id": "d7685409-5f7c-4b5a-9c09-0bff8af20170",
   "metadata": {},
   "outputs": [
    {
     "name": "stdout",
     "output_type": "stream",
     "text": [
      "114\n"
     ]
    },
    {
     "name": "stderr",
     "output_type": "stream",
     "text": [
      "/tmp/ipykernel_8087/718091425.py:8: UserWarning: FigureCanvasAgg is non-interactive, and thus cannot be shown\n",
      "  fig.show()\n"
     ]
    },
    {
     "data": {
      "image/png": "[encoded data removed]",
      "text/plain": [
       "<Figure size 700x700 with 1 Axes>"
      ]
     },
     "metadata": {},
     "output_type": "display_data"
    }
   ],
   "source": [
    "unique_a, phi_zhenya, mask, a = generate_elipse_zhenya(20,15)\n",
    "\n",
    "fig = plt.figure(figsize = (7,7))\n",
    "ax = fig.add_subplot(111)\n",
    "ax.scatter(unique_a[0],unique_a[1], s = 1)\n",
    "\n",
    "ax.set_aspect('equal')\n",
    "fig.show()\n",
    "\n",
    "print(len(shape[1]))"
   ]
  },
  {
   "cell_type": "code",
   "execution_count": 277,
   "id": "33837c35-2fda-4b86-aac7-5f74d6fa2239",
   "metadata": {},
   "outputs": [
    {
     "name": "stdout",
     "output_type": "stream",
     "text": [
      "(2, 136) (136,)\n",
      "(2, 136) (136,)\n"
     ]
    }
   ],
   "source": [
    "print(unique_a.shape,phi_zhenya.shape)\n",
    "print(unique_points.shape,phi.shape)"
   ]
  },
  {
   "cell_type": "code",
   "execution_count": 278,
   "id": "29febfd1-1c88-4bc3-b130-6e0a19abe0a8",
   "metadata": {},
   "outputs": [
    {
     "name": "stdout",
     "output_type": "stream",
     "text": [
      "[ 0.00000000e+00  2.77555756e-17  2.77555756e-17 -9.86076132e-32\n",
      "  0.00000000e+00  0.00000000e+00  5.55111512e-17  0.00000000e+00\n",
      " -5.55111512e-17  0.00000000e+00  0.00000000e+00  0.00000000e+00\n",
      " -5.55111512e-17  5.55111512e-17  0.00000000e+00  0.00000000e+00\n",
      " -1.11022302e-16 -1.11022302e-16 -1.11022302e-16  0.00000000e+00\n",
      "  0.00000000e+00  0.00000000e+00  0.00000000e+00 -1.11022302e-16\n",
      "  0.00000000e+00  0.00000000e+00 -1.11022302e-16  1.11022302e-16\n",
      "  1.11022302e-16 -1.11022302e-16  0.00000000e+00  0.00000000e+00\n",
      " -1.11022302e-16  0.00000000e+00  0.00000000e+00  0.00000000e+00\n",
      "  0.00000000e+00  0.00000000e+00  0.00000000e+00  0.00000000e+00\n",
      "  0.00000000e+00  0.00000000e+00  0.00000000e+00  2.22044605e-16\n",
      "  0.00000000e+00  0.00000000e+00  0.00000000e+00  0.00000000e+00\n",
      "  0.00000000e+00  0.00000000e+00  0.00000000e+00  0.00000000e+00\n",
      "  0.00000000e+00  0.00000000e+00  0.00000000e+00  0.00000000e+00\n",
      "  0.00000000e+00  0.00000000e+00  0.00000000e+00  0.00000000e+00\n",
      "  0.00000000e+00  0.00000000e+00  0.00000000e+00  0.00000000e+00\n",
      "  0.00000000e+00  0.00000000e+00  0.00000000e+00  0.00000000e+00\n",
      "  0.00000000e+00  0.00000000e+00  0.00000000e+00  0.00000000e+00\n",
      "  0.00000000e+00  0.00000000e+00  0.00000000e+00  0.00000000e+00\n",
      "  0.00000000e+00  0.00000000e+00  0.00000000e+00  0.00000000e+00\n",
      "  0.00000000e+00  0.00000000e+00  0.00000000e+00  0.00000000e+00\n",
      "  0.00000000e+00  0.00000000e+00  0.00000000e+00  0.00000000e+00\n",
      "  0.00000000e+00  0.00000000e+00  0.00000000e+00  2.22044605e-16\n",
      "  0.00000000e+00 -2.22044605e-16  0.00000000e+00  0.00000000e+00\n",
      "  0.00000000e+00  0.00000000e+00  0.00000000e+00  0.00000000e+00\n",
      " -1.11022302e-16  0.00000000e+00  0.00000000e+00  0.00000000e+00\n",
      "  0.00000000e+00  1.11022302e-16  0.00000000e+00  0.00000000e+00\n",
      "  0.00000000e+00  0.00000000e+00  1.11022302e-16  0.00000000e+00\n",
      "  0.00000000e+00  0.00000000e+00  0.00000000e+00  0.00000000e+00\n",
      "  0.00000000e+00  0.00000000e+00  0.00000000e+00  0.00000000e+00\n",
      " -1.11022302e-16  0.00000000e+00  0.00000000e+00  0.00000000e+00\n",
      "  0.00000000e+00  0.00000000e+00  0.00000000e+00  0.00000000e+00\n",
      "  0.00000000e+00  5.55111512e-17  0.00000000e+00 -1.38777878e-17\n",
      "  0.00000000e+00  0.00000000e+00  0.00000000e+00  0.00000000e+00]\n"
     ]
    }
   ],
   "source": [
    "print(phi-phi_zhenya)"
   ]
  },
  {
   "cell_type": "code",
   "execution_count": null,
   "id": "10076f25-8b0e-490f-ad15-16d54e10b7a0",
   "metadata": {},
   "outputs": [],
   "source": [
    "def generate_elipse(r1,r2,npoints=1000):\n",
    "    'Generates the set of points in the grid closest to an elipse with radii r1 and r2 and the angle of the normal vector.'\n",
    "    theta = np.linspace(0, 2*np.pi, npoints)\n",
    "    x = r1*np.cos(theta)\n",
    "    y = r2*np.sin(theta)\n",
    "    phi = np.arctan((r1/r2)*np.tan(theta))\n",
    "    z = np.exp(1j*phi)\n",
    "\n",
    "    boundary_points, indices = np.unique(np.round(np.stack((x, y))), axis = 1, return_inverse=True)\n",
    "\n",
    "    # Calculate the sum of elements in z that correspond to the same value in mask\n",
    "    sums_real = np.bincount(indices, weights=z.real)\n",
    "    sums_imag = np.bincount(indices, weights=z.imag)\n",
    "    \n",
    "    # Calculate the count of elements in b that correspond to the same value in mask\n",
    "    counts = np.bincount(indices)\n",
    "    \n",
    "    # Calculate the average of elements in b that correspond to the same value in mask\n",
    "    normal_angles = np.angle((sums_real + 1j*sums_imag)/counts)\n",
    "    \n",
    "\n",
    "    \n",
    "    return boundary_points, normal_angles"
   ]
  }
 ],
 "metadata": {
  "kernelspec": {
   "display_name": "Python 3 (ipykernel)",
   "language": "python",
   "name": "python3"
  },
  "language_info": {
   "codemirror_mode": {
    "name": "ipython",
    "version": 3
   },
   "file_extension": ".py",
   "mimetype": "text/x-python",
   "name": "python",
   "nbconvert_exporter": "python",
   "pygments_lexer": "ipython3",
   "version": "3.12.4"
  }
 },
 "nbformat": 4,
 "nbformat_minor": 5
}
